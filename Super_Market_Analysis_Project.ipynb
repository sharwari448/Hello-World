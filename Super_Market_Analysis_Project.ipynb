{
  "nbformat": 4,
  "nbformat_minor": 0,
  "metadata": {
    "colab": {
      "provenance": [],
      "collapsed_sections": [
        "4rEhuvS1OXqz",
        "kXtLafeEV55F",
        "tN1gPLk3lVBJ",
        "gLIAmnTUmvb7",
        "70LISy-F-nTX",
        "Fya4G7tvucBZ",
        "YZjbqBF5v5_x"
      ],
      "include_colab_link": true
    },
    "kernelspec": {
      "name": "python3",
      "display_name": "Python 3"
    },
    "language_info": {
      "name": "python"
    }
  },
  "cells": [
    {
      "cell_type": "markdown",
      "metadata": {
        "id": "view-in-github",
        "colab_type": "text"
      },
      "source": [
        "<a href=\"https://colab.research.google.com/github/sharwari448/Hello-World/blob/master/Super_Market_Analysis_Project.ipynb\" target=\"_parent\"><img src=\"https://colab.research.google.com/assets/colab-badge.svg\" alt=\"Open In Colab\"/></a>"
      ]
    },
    {
      "cell_type": "markdown",
      "source": [
        "# About Data\n"
      ],
      "metadata": {
        "id": "4rEhuvS1OXqz"
      }
    },
    {
      "cell_type": "markdown",
      "source": [
        "The dataset contains supermarket sales data, including customer details, order information, shipping details, product categories, and sales amounts.   \n",
        " It consists of multiple categorical columns like Segment, Ship Mode, Category, Region, State, and City, along with numerical columns such as Sales and Shipping Delay (Days).      \n",
        " The dataset helps analyze sales trends, regional performance, and the impact of shipping delays. This analysis provides insights to improve sales strategies, inventory management, and customer satisfaction."
      ],
      "metadata": {
        "id": "LoOpkdXbW2PR"
      }
    },
    {
      "cell_type": "markdown",
      "source": [
        "Questions for Analysis\n",
        "1. Sales Analysis  \n",
        "a1. Which segment has the highest and the lowest sales ?  \n",
        "b1. Which Categories and Sub-categories has the highest sales ?   \n",
        "c1. Sales at this point from start ?\n",
        "\n",
        "2. Location wise sales Analysis  \n",
        "a1. Sales per city and state ?    \n",
        "a2. Sales per region ?\n",
        "\n",
        "3. Product wise sales Analysis    \n",
        "a1. Which product has the highest and lowest sales ?\n",
        "\n",
        "4. Does Time delay affect sales   \n",
        "a1. Difference between order_date and shpping_date does affect sales ?"
      ],
      "metadata": {
        "id": "LR9hyW_RbT15"
      }
    },
    {
      "cell_type": "code",
      "source": [
        "import pandas as pd\n",
        "import numpy as np\n",
        "import matplotlib.pyplot as plt\n",
        "import seaborn as sns"
      ],
      "metadata": {
        "id": "ra5hng9AmApe"
      },
      "execution_count": 2,
      "outputs": []
    },
    {
      "cell_type": "markdown",
      "source": [
        "#Data Analysis Process (DAP)"
      ],
      "metadata": {
        "id": "kXtLafeEV55F"
      }
    },
    {
      "cell_type": "markdown",
      "source": [
        "## Data Accessing through \".csv\" file"
      ],
      "metadata": {
        "id": "tN1gPLk3lVBJ"
      }
    },
    {
      "cell_type": "code",
      "source": [
        "df = pd.read_csv(\"/content/drive/MyDrive/Supermarket/Copy of Copy of supermarket.csv\")"
      ],
      "metadata": {
        "id": "U8B25MEMlhYK"
      },
      "execution_count": 5,
      "outputs": []
    },
    {
      "cell_type": "markdown",
      "source": [
        "### Data Quality Dimensions\n",
        "\n",
        "1. Completeness -> Pincode column data is missing.\n",
        "2. Validity -> Some values in pincode are 4 digit values which are suppose to be 5 digits\n",
        "3. Accuracy -> Data type of Postal code is given as float it should be string\n",
        "4. Consistency -> Data is Consistent"
      ],
      "metadata": {
        "id": "zZVRbXvhoeeP"
      }
    },
    {
      "cell_type": "markdown",
      "source": [
        "## Data Cleaning"
      ],
      "metadata": {
        "id": "gLIAmnTUmvb7"
      }
    },
    {
      "cell_type": "code",
      "source": [
        "df.info()"
      ],
      "metadata": {
        "colab": {
          "base_uri": "https://localhost:8080/"
        },
        "id": "8sf81cz3o09K",
        "outputId": "488e47ee-1267-4cf4-8a51-2c000eec8cd5",
        "collapsed": true
      },
      "execution_count": 6,
      "outputs": [
        {
          "output_type": "stream",
          "name": "stdout",
          "text": [
            "<class 'pandas.core.frame.DataFrame'>\n",
            "RangeIndex: 9800 entries, 0 to 9799\n",
            "Data columns (total 18 columns):\n",
            " #   Column         Non-Null Count  Dtype  \n",
            "---  ------         --------------  -----  \n",
            " 0   Row ID         9800 non-null   int64  \n",
            " 1   Order ID       9800 non-null   object \n",
            " 2   Order Date     9800 non-null   object \n",
            " 3   Ship Date      9800 non-null   object \n",
            " 4   Ship Mode      9800 non-null   object \n",
            " 5   Customer ID    9800 non-null   object \n",
            " 6   Customer Name  9800 non-null   object \n",
            " 7   Segment        9800 non-null   object \n",
            " 8   Country        9800 non-null   object \n",
            " 9   City           9800 non-null   object \n",
            " 10  State          9800 non-null   object \n",
            " 11  Postal Code    9789 non-null   float64\n",
            " 12  Region         9800 non-null   object \n",
            " 13  Product ID     9800 non-null   object \n",
            " 14  Category       9800 non-null   object \n",
            " 15  Sub-Category   9800 non-null   object \n",
            " 16  Product Name   9800 non-null   object \n",
            " 17  Sales          9800 non-null   float64\n",
            "dtypes: float64(2), int64(1), object(15)\n",
            "memory usage: 1.3+ MB\n"
          ]
        }
      ]
    },
    {
      "cell_type": "code",
      "source": [
        "# Step 1: Convert to string (ensure it’s not float)\n",
        "df[\"Postal Code\"] = df[\"Postal Code\"].astype(str)"
      ],
      "metadata": {
        "id": "UZ_el-R5g2fV"
      },
      "execution_count": 7,
      "outputs": []
    },
    {
      "cell_type": "code",
      "source": [
        "# Step 2: Remove any decimal points (if present due to float conversion)\n",
        "df[\"Postal Code\"] = df[\"Postal Code\"].str.split('.').str[0]"
      ],
      "metadata": {
        "id": "Q4lPB5lhg6n8"
      },
      "execution_count": 8,
      "outputs": []
    },
    {
      "cell_type": "code",
      "source": [
        "# Step 3: Ensure all ZIP codes are exactly 5 digits (adding leading zeros if needed)\n",
        "df[\"Postal Code\"] = df[\"Postal Code\"].str.zfill(5)"
      ],
      "metadata": {
        "id": "dFfI0tLjg81O"
      },
      "execution_count": 9,
      "outputs": []
    },
    {
      "cell_type": "code",
      "source": [
        "df['Postal Code'].sample(10)"
      ],
      "metadata": {
        "colab": {
          "base_uri": "https://localhost:8080/",
          "height": 0
        },
        "collapsed": true,
        "id": "VHy4Kgsdg_im",
        "outputId": "cbd5b165-1a0e-4ded-b083-65b2ce977ef3"
      },
      "execution_count": 10,
      "outputs": [
        {
          "output_type": "execute_result",
          "data": {
            "text/plain": [
              "4115    98105\n",
              "2011    77041\n",
              "8966    19120\n",
              "7898    38109\n",
              "4560    90049\n",
              "4761    43229\n",
              "9492    73120\n",
              "213     44256\n",
              "8492    79424\n",
              "5464    85254\n",
              "Name: Postal Code, dtype: object"
            ],
            "text/html": [
              "<div>\n",
              "<style scoped>\n",
              "    .dataframe tbody tr th:only-of-type {\n",
              "        vertical-align: middle;\n",
              "    }\n",
              "\n",
              "    .dataframe tbody tr th {\n",
              "        vertical-align: top;\n",
              "    }\n",
              "\n",
              "    .dataframe thead th {\n",
              "        text-align: right;\n",
              "    }\n",
              "</style>\n",
              "<table border=\"1\" class=\"dataframe\">\n",
              "  <thead>\n",
              "    <tr style=\"text-align: right;\">\n",
              "      <th></th>\n",
              "      <th>Postal Code</th>\n",
              "    </tr>\n",
              "  </thead>\n",
              "  <tbody>\n",
              "    <tr>\n",
              "      <th>4115</th>\n",
              "      <td>98105</td>\n",
              "    </tr>\n",
              "    <tr>\n",
              "      <th>2011</th>\n",
              "      <td>77041</td>\n",
              "    </tr>\n",
              "    <tr>\n",
              "      <th>8966</th>\n",
              "      <td>19120</td>\n",
              "    </tr>\n",
              "    <tr>\n",
              "      <th>7898</th>\n",
              "      <td>38109</td>\n",
              "    </tr>\n",
              "    <tr>\n",
              "      <th>4560</th>\n",
              "      <td>90049</td>\n",
              "    </tr>\n",
              "    <tr>\n",
              "      <th>4761</th>\n",
              "      <td>43229</td>\n",
              "    </tr>\n",
              "    <tr>\n",
              "      <th>9492</th>\n",
              "      <td>73120</td>\n",
              "    </tr>\n",
              "    <tr>\n",
              "      <th>213</th>\n",
              "      <td>44256</td>\n",
              "    </tr>\n",
              "    <tr>\n",
              "      <th>8492</th>\n",
              "      <td>79424</td>\n",
              "    </tr>\n",
              "    <tr>\n",
              "      <th>5464</th>\n",
              "      <td>85254</td>\n",
              "    </tr>\n",
              "  </tbody>\n",
              "</table>\n",
              "</div><br><label><b>dtype:</b> object</label>"
            ]
          },
          "metadata": {},
          "execution_count": 10
        }
      ]
    },
    {
      "cell_type": "code",
      "source": [
        "# Fill blank (empty) Postal Code values with '05401' for Burlington\n",
        "df[\"Postal Code\"] = df[\"Postal Code\"].fillna(\"05401\")\n"
      ],
      "metadata": {
        "id": "1MpDjgMfuvYa"
      },
      "execution_count": 11,
      "outputs": []
    },
    {
      "cell_type": "code",
      "source": [
        "df['Postal Code'].isnull().sum()"
      ],
      "metadata": {
        "id": "ef5JfyIrgE-Y",
        "colab": {
          "base_uri": "https://localhost:8080/"
        },
        "outputId": "a02a91c7-1d31-4ec0-d511-85282e26e190"
      },
      "execution_count": 12,
      "outputs": [
        {
          "output_type": "execute_result",
          "data": {
            "text/plain": [
              "0"
            ]
          },
          "metadata": {},
          "execution_count": 12
        }
      ]
    },
    {
      "cell_type": "code",
      "source": [
        "# Convert Order Date and Ship Date to datetime format\n",
        "df[\"Order Date\"] = pd.to_datetime(df[\"Order Date\"], format=\"%Y-%m-%d\", errors=\"coerce\")\n",
        "df[\"Ship Date\"] = pd.to_datetime(df[\"Ship Date\"], format=\"%Y-%m-%d\", errors=\"coerce\")\n"
      ],
      "metadata": {
        "id": "MYDEsAgT0Y9Q"
      },
      "execution_count": 13,
      "outputs": []
    },
    {
      "cell_type": "code",
      "source": [
        "duplicates = df.duplicated().sum()\n",
        "duplicates\n"
      ],
      "metadata": {
        "colab": {
          "base_uri": "https://localhost:8080/"
        },
        "id": "dAciInSy8oMK",
        "outputId": "e748b482-6f0c-43d8-b42d-7d774c505108"
      },
      "execution_count": 14,
      "outputs": [
        {
          "output_type": "execute_result",
          "data": {
            "text/plain": [
              "0"
            ]
          },
          "metadata": {},
          "execution_count": 14
        }
      ]
    },
    {
      "cell_type": "code",
      "source": [
        "from google.colab import drive\n",
        "drive.mount('/content/drive')"
      ],
      "metadata": {
        "id": "ly7Blpva7-4d",
        "outputId": "3f000382-ab68-4aae-8785-4304b799a7d3",
        "colab": {
          "base_uri": "https://localhost:8080/"
        }
      },
      "execution_count": 15,
      "outputs": [
        {
          "output_type": "stream",
          "name": "stdout",
          "text": [
            "Drive already mounted at /content/drive; to attempt to forcibly remount, call drive.mount(\"/content/drive\", force_remount=True).\n"
          ]
        }
      ]
    },
    {
      "cell_type": "markdown",
      "source": [
        "#EDA"
      ],
      "metadata": {
        "id": "70LISy-F-nTX"
      }
    },
    {
      "cell_type": "code",
      "source": [
        "df.describe()"
      ],
      "metadata": {
        "collapsed": true,
        "id": "DPiqLnUxFNaV",
        "colab": {
          "base_uri": "https://localhost:8080/",
          "height": 300
        },
        "outputId": "5a2a2f07-8c92-44f6-bc2c-79c4a91f3293"
      },
      "execution_count": 16,
      "outputs": [
        {
          "output_type": "execute_result",
          "data": {
            "text/plain": [
              "            Row ID Order Date Ship Date         Sales\n",
              "count  9800.000000          0         0   9800.000000\n",
              "mean   4900.500000        NaT       NaT    230.769059\n",
              "min       1.000000        NaT       NaT      0.444000\n",
              "25%    2450.750000        NaT       NaT     17.248000\n",
              "50%    4900.500000        NaT       NaT     54.490000\n",
              "75%    7350.250000        NaT       NaT    210.605000\n",
              "max    9800.000000        NaT       NaT  22638.480000\n",
              "std    2829.160653        NaN       NaN    626.651875"
            ],
            "text/html": [
              "\n",
              "  <div id=\"df-8ccd129e-fde1-4704-ae07-9cc39ad453ff\" class=\"colab-df-container\">\n",
              "    <div>\n",
              "<style scoped>\n",
              "    .dataframe tbody tr th:only-of-type {\n",
              "        vertical-align: middle;\n",
              "    }\n",
              "\n",
              "    .dataframe tbody tr th {\n",
              "        vertical-align: top;\n",
              "    }\n",
              "\n",
              "    .dataframe thead th {\n",
              "        text-align: right;\n",
              "    }\n",
              "</style>\n",
              "<table border=\"1\" class=\"dataframe\">\n",
              "  <thead>\n",
              "    <tr style=\"text-align: right;\">\n",
              "      <th></th>\n",
              "      <th>Row ID</th>\n",
              "      <th>Order Date</th>\n",
              "      <th>Ship Date</th>\n",
              "      <th>Sales</th>\n",
              "    </tr>\n",
              "  </thead>\n",
              "  <tbody>\n",
              "    <tr>\n",
              "      <th>count</th>\n",
              "      <td>9800.000000</td>\n",
              "      <td>0</td>\n",
              "      <td>0</td>\n",
              "      <td>9800.000000</td>\n",
              "    </tr>\n",
              "    <tr>\n",
              "      <th>mean</th>\n",
              "      <td>4900.500000</td>\n",
              "      <td>NaT</td>\n",
              "      <td>NaT</td>\n",
              "      <td>230.769059</td>\n",
              "    </tr>\n",
              "    <tr>\n",
              "      <th>min</th>\n",
              "      <td>1.000000</td>\n",
              "      <td>NaT</td>\n",
              "      <td>NaT</td>\n",
              "      <td>0.444000</td>\n",
              "    </tr>\n",
              "    <tr>\n",
              "      <th>25%</th>\n",
              "      <td>2450.750000</td>\n",
              "      <td>NaT</td>\n",
              "      <td>NaT</td>\n",
              "      <td>17.248000</td>\n",
              "    </tr>\n",
              "    <tr>\n",
              "      <th>50%</th>\n",
              "      <td>4900.500000</td>\n",
              "      <td>NaT</td>\n",
              "      <td>NaT</td>\n",
              "      <td>54.490000</td>\n",
              "    </tr>\n",
              "    <tr>\n",
              "      <th>75%</th>\n",
              "      <td>7350.250000</td>\n",
              "      <td>NaT</td>\n",
              "      <td>NaT</td>\n",
              "      <td>210.605000</td>\n",
              "    </tr>\n",
              "    <tr>\n",
              "      <th>max</th>\n",
              "      <td>9800.000000</td>\n",
              "      <td>NaT</td>\n",
              "      <td>NaT</td>\n",
              "      <td>22638.480000</td>\n",
              "    </tr>\n",
              "    <tr>\n",
              "      <th>std</th>\n",
              "      <td>2829.160653</td>\n",
              "      <td>NaN</td>\n",
              "      <td>NaN</td>\n",
              "      <td>626.651875</td>\n",
              "    </tr>\n",
              "  </tbody>\n",
              "</table>\n",
              "</div>\n",
              "    <div class=\"colab-df-buttons\">\n",
              "\n",
              "  <div class=\"colab-df-container\">\n",
              "    <button class=\"colab-df-convert\" onclick=\"convertToInteractive('df-8ccd129e-fde1-4704-ae07-9cc39ad453ff')\"\n",
              "            title=\"Convert this dataframe to an interactive table.\"\n",
              "            style=\"display:none;\">\n",
              "\n",
              "  <svg xmlns=\"http://www.w3.org/2000/svg\" height=\"24px\" viewBox=\"0 -960 960 960\">\n",
              "    <path d=\"M120-120v-720h720v720H120Zm60-500h600v-160H180v160Zm220 220h160v-160H400v160Zm0 220h160v-160H400v160ZM180-400h160v-160H180v160Zm440 0h160v-160H620v160ZM180-180h160v-160H180v160Zm440 0h160v-160H620v160Z\"/>\n",
              "  </svg>\n",
              "    </button>\n",
              "\n",
              "  <style>\n",
              "    .colab-df-container {\n",
              "      display:flex;\n",
              "      gap: 12px;\n",
              "    }\n",
              "\n",
              "    .colab-df-convert {\n",
              "      background-color: #E8F0FE;\n",
              "      border: none;\n",
              "      border-radius: 50%;\n",
              "      cursor: pointer;\n",
              "      display: none;\n",
              "      fill: #1967D2;\n",
              "      height: 32px;\n",
              "      padding: 0 0 0 0;\n",
              "      width: 32px;\n",
              "    }\n",
              "\n",
              "    .colab-df-convert:hover {\n",
              "      background-color: #E2EBFA;\n",
              "      box-shadow: 0px 1px 2px rgba(60, 64, 67, 0.3), 0px 1px 3px 1px rgba(60, 64, 67, 0.15);\n",
              "      fill: #174EA6;\n",
              "    }\n",
              "\n",
              "    .colab-df-buttons div {\n",
              "      margin-bottom: 4px;\n",
              "    }\n",
              "\n",
              "    [theme=dark] .colab-df-convert {\n",
              "      background-color: #3B4455;\n",
              "      fill: #D2E3FC;\n",
              "    }\n",
              "\n",
              "    [theme=dark] .colab-df-convert:hover {\n",
              "      background-color: #434B5C;\n",
              "      box-shadow: 0px 1px 3px 1px rgba(0, 0, 0, 0.15);\n",
              "      filter: drop-shadow(0px 1px 2px rgba(0, 0, 0, 0.3));\n",
              "      fill: #FFFFFF;\n",
              "    }\n",
              "  </style>\n",
              "\n",
              "    <script>\n",
              "      const buttonEl =\n",
              "        document.querySelector('#df-8ccd129e-fde1-4704-ae07-9cc39ad453ff button.colab-df-convert');\n",
              "      buttonEl.style.display =\n",
              "        google.colab.kernel.accessAllowed ? 'block' : 'none';\n",
              "\n",
              "      async function convertToInteractive(key) {\n",
              "        const element = document.querySelector('#df-8ccd129e-fde1-4704-ae07-9cc39ad453ff');\n",
              "        const dataTable =\n",
              "          await google.colab.kernel.invokeFunction('convertToInteractive',\n",
              "                                                    [key], {});\n",
              "        if (!dataTable) return;\n",
              "\n",
              "        const docLinkHtml = 'Like what you see? Visit the ' +\n",
              "          '<a target=\"_blank\" href=https://colab.research.google.com/notebooks/data_table.ipynb>data table notebook</a>'\n",
              "          + ' to learn more about interactive tables.';\n",
              "        element.innerHTML = '';\n",
              "        dataTable['output_type'] = 'display_data';\n",
              "        await google.colab.output.renderOutput(dataTable, element);\n",
              "        const docLink = document.createElement('div');\n",
              "        docLink.innerHTML = docLinkHtml;\n",
              "        element.appendChild(docLink);\n",
              "      }\n",
              "    </script>\n",
              "  </div>\n",
              "\n",
              "\n",
              "<div id=\"df-4ba397f6-45c3-4920-9d3f-1ade9c35b2f3\">\n",
              "  <button class=\"colab-df-quickchart\" onclick=\"quickchart('df-4ba397f6-45c3-4920-9d3f-1ade9c35b2f3')\"\n",
              "            title=\"Suggest charts\"\n",
              "            style=\"display:none;\">\n",
              "\n",
              "<svg xmlns=\"http://www.w3.org/2000/svg\" height=\"24px\"viewBox=\"0 0 24 24\"\n",
              "     width=\"24px\">\n",
              "    <g>\n",
              "        <path d=\"M19 3H5c-1.1 0-2 .9-2 2v14c0 1.1.9 2 2 2h14c1.1 0 2-.9 2-2V5c0-1.1-.9-2-2-2zM9 17H7v-7h2v7zm4 0h-2V7h2v10zm4 0h-2v-4h2v4z\"/>\n",
              "    </g>\n",
              "</svg>\n",
              "  </button>\n",
              "\n",
              "<style>\n",
              "  .colab-df-quickchart {\n",
              "      --bg-color: #E8F0FE;\n",
              "      --fill-color: #1967D2;\n",
              "      --hover-bg-color: #E2EBFA;\n",
              "      --hover-fill-color: #174EA6;\n",
              "      --disabled-fill-color: #AAA;\n",
              "      --disabled-bg-color: #DDD;\n",
              "  }\n",
              "\n",
              "  [theme=dark] .colab-df-quickchart {\n",
              "      --bg-color: #3B4455;\n",
              "      --fill-color: #D2E3FC;\n",
              "      --hover-bg-color: #434B5C;\n",
              "      --hover-fill-color: #FFFFFF;\n",
              "      --disabled-bg-color: #3B4455;\n",
              "      --disabled-fill-color: #666;\n",
              "  }\n",
              "\n",
              "  .colab-df-quickchart {\n",
              "    background-color: var(--bg-color);\n",
              "    border: none;\n",
              "    border-radius: 50%;\n",
              "    cursor: pointer;\n",
              "    display: none;\n",
              "    fill: var(--fill-color);\n",
              "    height: 32px;\n",
              "    padding: 0;\n",
              "    width: 32px;\n",
              "  }\n",
              "\n",
              "  .colab-df-quickchart:hover {\n",
              "    background-color: var(--hover-bg-color);\n",
              "    box-shadow: 0 1px 2px rgba(60, 64, 67, 0.3), 0 1px 3px 1px rgba(60, 64, 67, 0.15);\n",
              "    fill: var(--button-hover-fill-color);\n",
              "  }\n",
              "\n",
              "  .colab-df-quickchart-complete:disabled,\n",
              "  .colab-df-quickchart-complete:disabled:hover {\n",
              "    background-color: var(--disabled-bg-color);\n",
              "    fill: var(--disabled-fill-color);\n",
              "    box-shadow: none;\n",
              "  }\n",
              "\n",
              "  .colab-df-spinner {\n",
              "    border: 2px solid var(--fill-color);\n",
              "    border-color: transparent;\n",
              "    border-bottom-color: var(--fill-color);\n",
              "    animation:\n",
              "      spin 1s steps(1) infinite;\n",
              "  }\n",
              "\n",
              "  @keyframes spin {\n",
              "    0% {\n",
              "      border-color: transparent;\n",
              "      border-bottom-color: var(--fill-color);\n",
              "      border-left-color: var(--fill-color);\n",
              "    }\n",
              "    20% {\n",
              "      border-color: transparent;\n",
              "      border-left-color: var(--fill-color);\n",
              "      border-top-color: var(--fill-color);\n",
              "    }\n",
              "    30% {\n",
              "      border-color: transparent;\n",
              "      border-left-color: var(--fill-color);\n",
              "      border-top-color: var(--fill-color);\n",
              "      border-right-color: var(--fill-color);\n",
              "    }\n",
              "    40% {\n",
              "      border-color: transparent;\n",
              "      border-right-color: var(--fill-color);\n",
              "      border-top-color: var(--fill-color);\n",
              "    }\n",
              "    60% {\n",
              "      border-color: transparent;\n",
              "      border-right-color: var(--fill-color);\n",
              "    }\n",
              "    80% {\n",
              "      border-color: transparent;\n",
              "      border-right-color: var(--fill-color);\n",
              "      border-bottom-color: var(--fill-color);\n",
              "    }\n",
              "    90% {\n",
              "      border-color: transparent;\n",
              "      border-bottom-color: var(--fill-color);\n",
              "    }\n",
              "  }\n",
              "</style>\n",
              "\n",
              "  <script>\n",
              "    async function quickchart(key) {\n",
              "      const quickchartButtonEl =\n",
              "        document.querySelector('#' + key + ' button');\n",
              "      quickchartButtonEl.disabled = true;  // To prevent multiple clicks.\n",
              "      quickchartButtonEl.classList.add('colab-df-spinner');\n",
              "      try {\n",
              "        const charts = await google.colab.kernel.invokeFunction(\n",
              "            'suggestCharts', [key], {});\n",
              "      } catch (error) {\n",
              "        console.error('Error during call to suggestCharts:', error);\n",
              "      }\n",
              "      quickchartButtonEl.classList.remove('colab-df-spinner');\n",
              "      quickchartButtonEl.classList.add('colab-df-quickchart-complete');\n",
              "    }\n",
              "    (() => {\n",
              "      let quickchartButtonEl =\n",
              "        document.querySelector('#df-4ba397f6-45c3-4920-9d3f-1ade9c35b2f3 button');\n",
              "      quickchartButtonEl.style.display =\n",
              "        google.colab.kernel.accessAllowed ? 'block' : 'none';\n",
              "    })();\n",
              "  </script>\n",
              "</div>\n",
              "\n",
              "    </div>\n",
              "  </div>\n"
            ],
            "application/vnd.google.colaboratory.intrinsic+json": {
              "type": "dataframe",
              "summary": "{\n  \"name\": \"df\",\n  \"rows\": 8,\n  \"fields\": [\n    {\n      \"column\": \"Row ID\",\n      \"properties\": {\n        \"dtype\": \"number\",\n        \"std\": 3531.662618997046,\n        \"min\": 1.0,\n        \"max\": 9800.0,\n        \"num_unique_values\": 6,\n        \"samples\": [\n          9800.0,\n          4900.5,\n          2829.1606529145706\n        ],\n        \"semantic_type\": \"\",\n        \"description\": \"\"\n      }\n    },\n    {\n      \"column\": \"Order Date\",\n      \"properties\": {\n        \"dtype\": \"date\",\n        \"min\": \"0\",\n        \"max\": \"0\",\n        \"num_unique_values\": 1,\n        \"samples\": [\n          \"0\"\n        ],\n        \"semantic_type\": \"\",\n        \"description\": \"\"\n      }\n    },\n    {\n      \"column\": \"Ship Date\",\n      \"properties\": {\n        \"dtype\": \"date\",\n        \"min\": \"0\",\n        \"max\": \"0\",\n        \"num_unique_values\": 1,\n        \"samples\": [\n          \"0\"\n        ],\n        \"semantic_type\": \"\",\n        \"description\": \"\"\n      }\n    },\n    {\n      \"column\": \"Sales\",\n      \"properties\": {\n        \"dtype\": \"number\",\n        \"std\": 8177.4368105571575,\n        \"min\": 0.444,\n        \"max\": 22638.48,\n        \"num_unique_values\": 8,\n        \"samples\": [\n          230.7690594591837\n        ],\n        \"semantic_type\": \"\",\n        \"description\": \"\"\n      }\n    }\n  ]\n}"
            }
          },
          "metadata": {},
          "execution_count": 16
        }
      ]
    },
    {
      "cell_type": "code",
      "source": [
        "# Which Segment has the highest and the lowest sales\n",
        "highest_segment = df['Segment'].max()\n",
        "lowest_segment = df['Segment'].min()\n",
        "print(highest_segment)\n",
        "print(lowest_segment)"
      ],
      "metadata": {
        "colab": {
          "base_uri": "https://localhost:8080/"
        },
        "id": "0wG6UiWs_Dkr",
        "outputId": "7e80ca96-5595-4d63-c6bb-caf12759e236"
      },
      "execution_count": 17,
      "outputs": [
        {
          "output_type": "stream",
          "name": "stdout",
          "text": [
            "Home Office\n",
            "Consumer\n"
          ]
        }
      ]
    },
    {
      "cell_type": "code",
      "source": [
        "# Which Categories and Sub-categories has the highest sales\n",
        "highest_category = df['Category'].max()\n",
        "lowest_category = df['Category'].min()\n",
        "print(highest_category)\n",
        "print(lowest_category)"
      ],
      "metadata": {
        "id": "8GBlvK4t_zQI",
        "colab": {
          "base_uri": "https://localhost:8080/"
        },
        "outputId": "2ec8c125-a317-4832-dd19-b27caecf6e97"
      },
      "execution_count": 18,
      "outputs": [
        {
          "output_type": "stream",
          "name": "stdout",
          "text": [
            "Technology\n",
            "Furniture\n"
          ]
        }
      ]
    },
    {
      "cell_type": "code",
      "source": [
        "# Sales at current time from starting\n",
        "sales_at_start = df['Sales'].sum()\n",
        "print(sales_at_start)"
      ],
      "metadata": {
        "id": "MMFmDKfo_m3m",
        "colab": {
          "base_uri": "https://localhost:8080/"
        },
        "outputId": "e2bec809-46e1-454b-eaa1-4e7393a66e46"
      },
      "execution_count": 19,
      "outputs": [
        {
          "output_type": "stream",
          "name": "stdout",
          "text": [
            "2261536.7827000003\n"
          ]
        }
      ]
    },
    {
      "cell_type": "code",
      "source": [
        "# Location wise sales Analysis Sales per city and state\n",
        "city_sales = df.groupby('City')['Sales'].sum().sort_values()\n",
        "print(city_sales)"
      ],
      "metadata": {
        "collapsed": true,
        "id": "hO9yrxI6A2_i",
        "colab": {
          "base_uri": "https://localhost:8080/"
        },
        "outputId": "27a1fb87-a0a3-4d98-bf30-e33606bece4b"
      },
      "execution_count": 20,
      "outputs": [
        {
          "output_type": "stream",
          "name": "stdout",
          "text": [
            "City\n",
            "Abilene               1.392\n",
            "Elyria                1.824\n",
            "Jupiter               2.064\n",
            "Pensacola             2.214\n",
            "Ormond Beach          2.808\n",
            "                    ...    \n",
            "Philadelphia     108841.749\n",
            "San Francisco    109041.120\n",
            "Seattle          116106.322\n",
            "Los Angeles      173420.181\n",
            "New York City    252462.547\n",
            "Name: Sales, Length: 529, dtype: float64\n"
          ]
        }
      ]
    },
    {
      "cell_type": "code",
      "source": [
        "# Location wise sales Analysis Sales per state\n",
        "state_sales = df.groupby('State')['Sales'].sum().sort_values()\n",
        "print(state_sales)"
      ],
      "metadata": {
        "collapsed": true,
        "id": "Kf7j3eyHHWxE",
        "colab": {
          "base_uri": "https://localhost:8080/"
        },
        "outputId": "3a154df9-a36f-4d8e-b170-99f021686ffd"
      },
      "execution_count": 21,
      "outputs": [
        {
          "output_type": "stream",
          "name": "stdout",
          "text": [
            "State\n",
            "North Dakota               919.9100\n",
            "West Virginia             1209.8240\n",
            "Maine                     1270.5300\n",
            "South Dakota              1315.5600\n",
            "Wyoming                   1603.1360\n",
            "District of Columbia      2865.0200\n",
            "Kansas                    2914.3100\n",
            "Idaho                     4382.4860\n",
            "Iowa                      4443.5600\n",
            "New Mexico                4783.5220\n",
            "Montana                   5589.3520\n",
            "New Hampshire             7292.5240\n",
            "Nebraska                  7464.9300\n",
            "South Carolina            8481.7100\n",
            "Vermont                   8929.3700\n",
            "Louisiana                 9131.0500\n",
            "Mississippi              10771.3400\n",
            "Utah                     11220.0560\n",
            "Arkansas                 11678.1300\n",
            "Connecticut              13384.3570\n",
            "Nevada                   16729.1020\n",
            "Oregon                   17284.4620\n",
            "Alabama                  19510.6400\n",
            "Oklahoma                 19683.3900\n",
            "Missouri                 22205.1500\n",
            "Rhode Island             22525.0260\n",
            "Maryland                 23705.5230\n",
            "Delaware                 27322.9990\n",
            "Massachusetts            28634.4340\n",
            "Minnesota                29863.1500\n",
            "Tennessee                30661.8730\n",
            "Wisconsin                31173.4300\n",
            "Colorado                 31841.5980\n",
            "New Jersey               34610.9720\n",
            "Arizona                  35272.6570\n",
            "Kentucky                 36458.3900\n",
            "Georgia                  48219.1100\n",
            "Indiana                  48718.4000\n",
            "North Carolina           55165.9640\n",
            "Virginia                 70636.7200\n",
            "Ohio                     75130.3500\n",
            "Michigan                 76136.0740\n",
            "Illinois                 79236.5170\n",
            "Florida                  88436.5320\n",
            "Pennsylvania            116276.6500\n",
            "Washington              135206.8500\n",
            "Texas                   168572.5322\n",
            "New York                306361.1470\n",
            "California              446306.4635\n",
            "Name: Sales, dtype: float64\n"
          ]
        }
      ]
    },
    {
      "cell_type": "code",
      "source": [
        "# Location wise sales analysis Sales per region\n",
        "region_sales = df.groupby('Region')['Sales'].sum().sort_values()\n",
        "print(region_sales)\n"
      ],
      "metadata": {
        "collapsed": true,
        "id": "-e-b3yaBHytX",
        "colab": {
          "base_uri": "https://localhost:8080/"
        },
        "outputId": "3eea303a-a4fd-491b-daa5-714c90b440d2"
      },
      "execution_count": 22,
      "outputs": [
        {
          "output_type": "stream",
          "name": "stdout",
          "text": [
            "Region\n",
            "South      389151.4590\n",
            "Central    492646.9132\n",
            "East       669518.7260\n",
            "West       710219.6845\n",
            "Name: Sales, dtype: float64\n"
          ]
        }
      ]
    },
    {
      "cell_type": "code",
      "source": [
        "# Product wise sales Analysis Which product has the highest and lowest sales\n",
        "product_sales = df.groupby('Product Name')['Sales'].sum().sort_values()\n",
        "print(product_sales)\n"
      ],
      "metadata": {
        "collapsed": true,
        "id": "sTUMbgRxINSB",
        "colab": {
          "base_uri": "https://localhost:8080/"
        },
        "outputId": "783ebd17-716a-4a80-9ac7-ebc3a03db325"
      },
      "execution_count": 23,
      "outputs": [
        {
          "output_type": "stream",
          "name": "stdout",
          "text": [
            "Product Name\n",
            "Eureka Disposable Bags for Sanitaire Vibra Groomer I Upright Vac                   1.624\n",
            "Avery 5                                                                            5.760\n",
            "Xerox 20                                                                           6.480\n",
            "Grip Seal Envelopes                                                                7.072\n",
            "Acme Serrated Blade Letter Opener                                                  7.632\n",
            "                                                                                 ...    \n",
            "GBC DocuBind TL300 Electric Binding System                                     19823.479\n",
            "HON 5400 Series Task Chairs for Big and Tall                                   21870.576\n",
            "Cisco TelePresence System EX90 Videoconferencing Unit                          22638.480\n",
            "Fellowes PB500 Electric Punch Plastic Comb Binding Machine with Manual Bind    27453.384\n",
            "Canon imageCLASS 2200 Advanced Copier                                          61599.824\n",
            "Name: Sales, Length: 1849, dtype: float64\n"
          ]
        }
      ]
    },
    {
      "cell_type": "code",
      "source": [
        "# Does Time delay affect sales Difference between order_date and shpping_date does affect sales\n",
        "#Calculate the difference in days\n",
        "df[\"Shipping Delay (Days)\"] = (df[\"Ship Date\"] - df[\"Order Date\"]).dt.days\n",
        "\n",
        "#Display summary statistics of shipping delays\n",
        "print(df[\"Shipping Delay (Days)\"].describe())"
      ],
      "metadata": {
        "id": "JeIKD2h1IhtT",
        "colab": {
          "base_uri": "https://localhost:8080/"
        },
        "outputId": "8e8ef817-f1a8-4db2-f8b3-0e0dca82d17e"
      },
      "execution_count": 24,
      "outputs": [
        {
          "output_type": "stream",
          "name": "stdout",
          "text": [
            "count    0.0\n",
            "mean     NaN\n",
            "std      NaN\n",
            "min      NaN\n",
            "25%      NaN\n",
            "50%      NaN\n",
            "75%      NaN\n",
            "max      NaN\n",
            "Name: Shipping Delay (Days), dtype: float64\n"
          ]
        }
      ]
    },
    {
      "cell_type": "code",
      "source": [
        "df.columns"
      ],
      "metadata": {
        "colab": {
          "base_uri": "https://localhost:8080/"
        },
        "id": "oKCzo-hJp0VM",
        "outputId": "0377d462-cf68-4c4b-fd76-fd90f442238a"
      },
      "execution_count": 25,
      "outputs": [
        {
          "output_type": "execute_result",
          "data": {
            "text/plain": [
              "Index(['Row ID', 'Order ID', 'Order Date', 'Ship Date', 'Ship Mode',\n",
              "       'Customer ID', 'Customer Name', 'Segment', 'Country', 'City', 'State',\n",
              "       'Postal Code', 'Region', 'Product ID', 'Category', 'Sub-Category',\n",
              "       'Product Name', 'Sales', 'Shipping Delay (Days)'],\n",
              "      dtype='object')"
            ]
          },
          "metadata": {},
          "execution_count": 25
        }
      ]
    },
    {
      "cell_type": "markdown",
      "source": [
        "##Univariate Analysis"
      ],
      "metadata": {
        "id": "R86C_1iKWXUe"
      }
    },
    {
      "cell_type": "markdown",
      "source": [
        "### Categorical Columns - Univariate Analysis"
      ],
      "metadata": {
        "id": "Fya4G7tvucBZ"
      }
    },
    {
      "cell_type": "markdown",
      "source": [
        "1. Segment → Which segment has the most customers?   \n",
        "2. Ship Mode → Which shipping mode is used most?  \n",
        "3.Category → Which product category sells the most?  \n",
        "4.Sub-Category → Which sub-category is most popular?   \n",
        "5.Region → Which region has the most orders?   \n",
        "6.State → Which states contribute the most sales?   \n",
        "7.City → Top cities for sales"
      ],
      "metadata": {
        "id": "piwBaS7luiiq"
      }
    },
    {
      "cell_type": "code",
      "source": [
        "# Segment → Which segment has the most customers\n",
        "segment_counts = df['Segment'].value_counts()\n",
        "print(segment_counts)"
      ],
      "metadata": {
        "id": "2udiVtJMuh9q",
        "colab": {
          "base_uri": "https://localhost:8080/"
        },
        "outputId": "a65a11f3-8afa-4f2d-ca18-0e7d58d60e48"
      },
      "execution_count": 26,
      "outputs": [
        {
          "output_type": "stream",
          "name": "stdout",
          "text": [
            "Segment\n",
            "Consumer       5101\n",
            "Corporate      2953\n",
            "Home Office    1746\n",
            "Name: count, dtype: int64\n"
          ]
        }
      ]
    },
    {
      "cell_type": "code",
      "source": [
        "# Ship Mode → Which shipping mode is used most\n",
        "ship_mode_counts = df['Ship Mode'].value_counts()\n",
        "print(ship_mode_counts)"
      ],
      "metadata": {
        "id": "T9CjIB3DrFyc",
        "colab": {
          "base_uri": "https://localhost:8080/"
        },
        "outputId": "abac7526-ddfb-4251-acff-c75bf552be53"
      },
      "execution_count": 27,
      "outputs": [
        {
          "output_type": "stream",
          "name": "stdout",
          "text": [
            "Ship Mode\n",
            "Standard Class    5859\n",
            "Second Class      1902\n",
            "First Class       1501\n",
            "Same Day           538\n",
            "Name: count, dtype: int64\n"
          ]
        }
      ]
    },
    {
      "cell_type": "code",
      "source": [
        "# Category → Which product category sells the most\n",
        "category_counts = df['Category'].value_counts()\n",
        "print(category_counts)"
      ],
      "metadata": {
        "colab": {
          "base_uri": "https://localhost:8080/"
        },
        "id": "EXqYPE8GEzIB",
        "outputId": "316d3d82-de18-4732-876c-dc2145a91f64"
      },
      "execution_count": 28,
      "outputs": [
        {
          "output_type": "stream",
          "name": "stdout",
          "text": [
            "Category\n",
            "Office Supplies    5909\n",
            "Furniture          2078\n",
            "Technology         1813\n",
            "Name: count, dtype: int64\n"
          ]
        }
      ]
    },
    {
      "cell_type": "code",
      "source": [
        "# Sub-Category → Which sub-category is most popular\n",
        "sub_category_counts = df['Sub-Category'].value_counts()\n",
        "print(sub_category_counts)"
      ],
      "metadata": {
        "colab": {
          "base_uri": "https://localhost:8080/"
        },
        "collapsed": true,
        "id": "vlGbViMWFClL",
        "outputId": "b8d15103-18f8-4268-cb25-81094710a357"
      },
      "execution_count": 29,
      "outputs": [
        {
          "output_type": "stream",
          "name": "stdout",
          "text": [
            "Sub-Category\n",
            "Binders        1492\n",
            "Paper          1338\n",
            "Furnishings     931\n",
            "Phones          876\n",
            "Storage         832\n",
            "Art             785\n",
            "Accessories     756\n",
            "Chairs          607\n",
            "Appliances      459\n",
            "Labels          357\n",
            "Tables          314\n",
            "Envelopes       248\n",
            "Bookcases       226\n",
            "Fasteners       214\n",
            "Supplies        184\n",
            "Machines        115\n",
            "Copiers          66\n",
            "Name: count, dtype: int64\n"
          ]
        }
      ]
    },
    {
      "cell_type": "code",
      "source": [
        "# Region → Which region has the most orders\n",
        "region_counts = df['Region'].value_counts()\n",
        "print(region_counts)"
      ],
      "metadata": {
        "collapsed": true,
        "colab": {
          "base_uri": "https://localhost:8080/"
        },
        "id": "TIosMnCgFVUN",
        "outputId": "871ef84f-0d66-46cb-b7aa-9cd1d686c9ce"
      },
      "execution_count": 30,
      "outputs": [
        {
          "output_type": "stream",
          "name": "stdout",
          "text": [
            "Region\n",
            "West       3140\n",
            "East       2785\n",
            "Central    2277\n",
            "South      1598\n",
            "Name: count, dtype: int64\n"
          ]
        }
      ]
    },
    {
      "cell_type": "code",
      "source": [
        "# State → Which states contribute the most sales\n",
        "state_sales = df.groupby('State')['Sales'].sum().sort_values(ascending=False)\n",
        "print(state_sales)"
      ],
      "metadata": {
        "colab": {
          "base_uri": "https://localhost:8080/"
        },
        "collapsed": true,
        "id": "CO6JKx_DFZ9V",
        "outputId": "cc6a0cc6-5c68-4ebe-cace-f81fe0dc6096"
      },
      "execution_count": 31,
      "outputs": [
        {
          "output_type": "stream",
          "name": "stdout",
          "text": [
            "State\n",
            "California              446306.4635\n",
            "New York                306361.1470\n",
            "Texas                   168572.5322\n",
            "Washington              135206.8500\n",
            "Pennsylvania            116276.6500\n",
            "Florida                  88436.5320\n",
            "Illinois                 79236.5170\n",
            "Michigan                 76136.0740\n",
            "Ohio                     75130.3500\n",
            "Virginia                 70636.7200\n",
            "North Carolina           55165.9640\n",
            "Indiana                  48718.4000\n",
            "Georgia                  48219.1100\n",
            "Kentucky                 36458.3900\n",
            "Arizona                  35272.6570\n",
            "New Jersey               34610.9720\n",
            "Colorado                 31841.5980\n",
            "Wisconsin                31173.4300\n",
            "Tennessee                30661.8730\n",
            "Minnesota                29863.1500\n",
            "Massachusetts            28634.4340\n",
            "Delaware                 27322.9990\n",
            "Maryland                 23705.5230\n",
            "Rhode Island             22525.0260\n",
            "Missouri                 22205.1500\n",
            "Oklahoma                 19683.3900\n",
            "Alabama                  19510.6400\n",
            "Oregon                   17284.4620\n",
            "Nevada                   16729.1020\n",
            "Connecticut              13384.3570\n",
            "Arkansas                 11678.1300\n",
            "Utah                     11220.0560\n",
            "Mississippi              10771.3400\n",
            "Louisiana                 9131.0500\n",
            "Vermont                   8929.3700\n",
            "South Carolina            8481.7100\n",
            "Nebraska                  7464.9300\n",
            "New Hampshire             7292.5240\n",
            "Montana                   5589.3520\n",
            "New Mexico                4783.5220\n",
            "Iowa                      4443.5600\n",
            "Idaho                     4382.4860\n",
            "Kansas                    2914.3100\n",
            "District of Columbia      2865.0200\n",
            "Wyoming                   1603.1360\n",
            "South Dakota              1315.5600\n",
            "Maine                     1270.5300\n",
            "West Virginia             1209.8240\n",
            "North Dakota               919.9100\n",
            "Name: Sales, dtype: float64\n"
          ]
        }
      ]
    },
    {
      "cell_type": "code",
      "source": [
        "# City → Top cities for sales, but too many unique values\n",
        "city_sales = df.groupby('City')['Sales'].sum().sort_values(ascending=False)\n",
        "print(city_sales)"
      ],
      "metadata": {
        "colab": {
          "base_uri": "https://localhost:8080/"
        },
        "collapsed": true,
        "id": "GjND5wFoFm9e",
        "outputId": "1a63a25e-6abe-4920-d1df-85fd0eb97cdd"
      },
      "execution_count": 32,
      "outputs": [
        {
          "output_type": "stream",
          "name": "stdout",
          "text": [
            "City\n",
            "New York City    252462.547\n",
            "Los Angeles      173420.181\n",
            "Seattle          116106.322\n",
            "San Francisco    109041.120\n",
            "Philadelphia     108841.749\n",
            "                    ...    \n",
            "Ormond Beach          2.808\n",
            "Pensacola             2.214\n",
            "Jupiter               2.064\n",
            "Elyria                1.824\n",
            "Abilene               1.392\n",
            "Name: Sales, Length: 529, dtype: float64\n"
          ]
        }
      ]
    },
    {
      "cell_type": "markdown",
      "source": [
        "#### Visualization"
      ],
      "metadata": {
        "id": "CP1JtuBI8gFi"
      }
    },
    {
      "cell_type": "code",
      "source": [
        "# Bar Chart → Count of each category\n",
        "plt.figure(figsize=(10, 6))\n",
        "sns.countplot(data=df, x='Category')\n",
        "plt.title('Count of Each Category')\n",
        "plt.xlabel('Category')\n",
        "plt.ylabel('Count')\n",
        "plt.show()"
      ],
      "metadata": {
        "colab": {
          "base_uri": "https://localhost:8080/",
          "height": 564
        },
        "id": "j4Dm8xk7GRZ7",
        "outputId": "5e50d1f5-c7f0-42bf-9f03-ca89e964d664"
      },
      "execution_count": 33,
      "outputs": [
        {
          "output_type": "display_data",
          "data": {
            "text/plain": [
              "<Figure size 1000x600 with 1 Axes>"
            ],
            "image/png": "[encoded data removed]"
          },
          "metadata": {}
        }
      ]
    },
    {
      "cell_type": "code",
      "source": [
        "# Pie Chart → Percentage distribution\n",
        "plt.figure(figsize=(10, 6))\n",
        "df['Category'].value_counts().plot(kind='pie', autopct='%1.1f%%')\n",
        "plt.title('Percentage Distribution of Categories')\n",
        "plt.ylabel('')\n",
        "plt.show()"
      ],
      "metadata": {
        "colab": {
          "base_uri": "https://localhost:8080/",
          "height": 521
        },
        "id": "xgQFBmPaGj8t",
        "outputId": "317d5b52-9b9a-451d-e994-39c9bcaf7abd"
      },
      "execution_count": 34,
      "outputs": [
        {
          "output_type": "display_data",
          "data": {
            "text/plain": [
              "<Figure size 1000x600 with 1 Axes>"
            ],
            "image/png": "[encoded data removed]"
          },
          "metadata": {}
        }
      ]
    },
    {
      "cell_type": "markdown",
      "source": [
        "### Numerical Columns - Univariate Analysis\n",
        "\n",
        "1. Sales\n",
        "2. Shipping Delay (Days)\n",
        "3. Time Delay\n",
        "4. Postal Code"
      ],
      "metadata": {
        "id": "6A-JYlj_HLjx"
      }
    },
    {
      "cell_type": "code",
      "source": [
        "#Histogram\n",
        "plt.figure(figsize=(10, 6))\n",
        "sns.histplot(df['Sales'], bins=20)\n",
        "plt.title('Distribution of Sales')\n",
        "plt.xlabel('Sales')\n",
        "plt.ylabel('Frequency')\n",
        "plt.show()"
      ],
      "metadata": {
        "colab": {
          "base_uri": "https://localhost:8080/",
          "height": 564
        },
        "id": "LqdFJWIiIa3J",
        "outputId": "a5fb862e-48f2-48fe-b2e7-7f0885f1693d"
      },
      "execution_count": 35,
      "outputs": [
        {
          "output_type": "display_data",
          "data": {
            "text/plain": [
              "<Figure size 1000x600 with 1 Axes>"
            ],
            "image/png": "[encoded data removed]"
          },
          "metadata": {}
        }
      ]
    },
    {
      "cell_type": "code",
      "source": [
        "# Boxplot\n",
        "plt.figure(figsize=(10, 6))\n",
        "sns.boxplot(x=df['Sales'])\n",
        "plt.title('Boxplot of Sales')\n",
        "plt.xlabel('Sales')\n",
        "plt.show()"
      ],
      "metadata": {
        "id": "AJGQew98IgPK",
        "outputId": "63251fb0-7e15-4d0b-c19d-3eeace797abc",
        "colab": {
          "base_uri": "https://localhost:8080/",
          "height": 564
        }
      },
      "execution_count": 36,
      "outputs": [
        {
          "output_type": "display_data",
          "data": {
            "text/plain": [
              "<Figure size 1000x600 with 1 Axes>"
            ],
            "image/png": "[encoded data removed]"
          },
          "metadata": {}
        }
      ]
    },
    {
      "cell_type": "markdown",
      "source": [
        "## Bivariate Analysis\n",
        "1. Segment vs Sales → Which segment generates the most revenue?\n",
        "2. Ship Mode vs Sales → Which shipping mode contributes most to sales?\n",
        "3. Category vs Sales → Which category brings the most revenue?\n",
        "4. Sub-Category vs Sales → Which sub-category is the top seller?\n",
        "5. Region vs Sales → How does sales vary by region?\n",
        "6. State vs Sales → Which states contribute the most sales?\n",
        "7. City vs Sales → Top 10 cities by sales.\n"
      ],
      "metadata": {
        "id": "MZEnUzzAM2Md"
      }
    },
    {
      "cell_type": "code",
      "source": [
        "# Segment vs Sales\n",
        "segment_sales = df.groupby('Segment')['Sales'].sum()\n",
        "print(segment_sales)\n"
      ],
      "metadata": {
        "colab": {
          "base_uri": "https://localhost:8080/"
        },
        "collapsed": true,
        "id": "Q12PNrV7OTrp",
        "outputId": "d2335411-3433-4132-90de-078a02b1a7ce"
      },
      "execution_count": 37,
      "outputs": [
        {
          "output_type": "stream",
          "name": "stdout",
          "text": [
            "Segment\n",
            "Consumer       1.148061e+06\n",
            "Corporate      6.884941e+05\n",
            "Home Office    4.249822e+05\n",
            "Name: Sales, dtype: float64\n"
          ]
        }
      ]
    },
    {
      "cell_type": "code",
      "source": [
        "#Ship Mode vs Sales\n",
        "ship_mode_sales = df.groupby('Ship Mode')['Sales'].sum()\n",
        "print(ship_mode_sales)"
      ],
      "metadata": {
        "colab": {
          "base_uri": "https://localhost:8080/"
        },
        "collapsed": true,
        "id": "3Z1L4CfpOtJr",
        "outputId": "316ccab9-822d-4d65-df58-84888544ba82"
      },
      "execution_count": 38,
      "outputs": [
        {
          "output_type": "stream",
          "name": "stdout",
          "text": [
            "Ship Mode\n",
            "First Class       3.455723e+05\n",
            "Same Day          1.252190e+05\n",
            "Second Class      4.499142e+05\n",
            "Standard Class    1.340831e+06\n",
            "Name: Sales, dtype: float64\n"
          ]
        }
      ]
    },
    {
      "cell_type": "code",
      "source": [
        "# Category vs Sales\n",
        "category_sales = df.groupby('Category')['Sales'].sum()\n",
        "print(category_sales)"
      ],
      "metadata": {
        "colab": {
          "base_uri": "https://localhost:8080/"
        },
        "collapsed": true,
        "id": "sIj3GreWO4YV",
        "outputId": "453bab26-1bc3-49b5-c5c5-aa67bd324c4e"
      },
      "execution_count": 39,
      "outputs": [
        {
          "output_type": "stream",
          "name": "stdout",
          "text": [
            "Category\n",
            "Furniture          728658.5757\n",
            "Office Supplies    705422.3340\n",
            "Technology         827455.8730\n",
            "Name: Sales, dtype: float64\n"
          ]
        }
      ]
    },
    {
      "cell_type": "code",
      "source": [
        "# sub-Category vs Sales\n",
        "sub_category_sales = df.groupby('Sub-Category')['Sales'].sum().sort_values(ascending=False)\n",
        "print(sub_category_sales)"
      ],
      "metadata": {
        "colab": {
          "base_uri": "https://localhost:8080/"
        },
        "collapsed": true,
        "id": "8RInAU-7PDKV",
        "outputId": "79fc7708-352e-425d-de36-39ddb2d20f38"
      },
      "execution_count": 40,
      "outputs": [
        {
          "output_type": "stream",
          "name": "stdout",
          "text": [
            "Sub-Category\n",
            "Phones         327782.4480\n",
            "Chairs         322822.7310\n",
            "Storage        219343.3920\n",
            "Tables         202810.6280\n",
            "Binders        200028.7850\n",
            "Machines       189238.6310\n",
            "Accessories    164186.7000\n",
            "Copiers        146248.0940\n",
            "Bookcases      113813.1987\n",
            "Appliances     104618.4030\n",
            "Furnishings     89212.0180\n",
            "Paper           76828.3040\n",
            "Supplies        46420.3080\n",
            "Art             26705.4100\n",
            "Envelopes       16128.0460\n",
            "Labels          12347.7260\n",
            "Fasteners        3001.9600\n",
            "Name: Sales, dtype: float64\n"
          ]
        }
      ]
    },
    {
      "cell_type": "code",
      "source": [
        "# Region vs Sales\n",
        "region_sales = df.groupby('Region')['Sales'].sum()\n",
        "print(region_sales)"
      ],
      "metadata": {
        "colab": {
          "base_uri": "https://localhost:8080/"
        },
        "id": "yvs2e50WqCIp",
        "outputId": "3cc5d11d-7dd2-4ea4-c37c-6a50015946e0"
      },
      "execution_count": 41,
      "outputs": [
        {
          "output_type": "stream",
          "name": "stdout",
          "text": [
            "Region\n",
            "Central    492646.9132\n",
            "East       669518.7260\n",
            "South      389151.4590\n",
            "West       710219.6845\n",
            "Name: Sales, dtype: float64\n"
          ]
        }
      ]
    },
    {
      "cell_type": "code",
      "source": [
        "# State vs Sales\n",
        "state_sales = df.groupby('State')['Sales'].sum().sort_values(ascending=False)\n",
        "print(state_sales)"
      ],
      "metadata": {
        "colab": {
          "base_uri": "https://localhost:8080/"
        },
        "collapsed": true,
        "id": "4HLXoloUqMhS",
        "outputId": "7969e56d-ec51-46eb-e2dc-9d37138efe8d"
      },
      "execution_count": 42,
      "outputs": [
        {
          "output_type": "stream",
          "name": "stdout",
          "text": [
            "State\n",
            "California              446306.4635\n",
            "New York                306361.1470\n",
            "Texas                   168572.5322\n",
            "Washington              135206.8500\n",
            "Pennsylvania            116276.6500\n",
            "Florida                  88436.5320\n",
            "Illinois                 79236.5170\n",
            "Michigan                 76136.0740\n",
            "Ohio                     75130.3500\n",
            "Virginia                 70636.7200\n",
            "North Carolina           55165.9640\n",
            "Indiana                  48718.4000\n",
            "Georgia                  48219.1100\n",
            "Kentucky                 36458.3900\n",
            "Arizona                  35272.6570\n",
            "New Jersey               34610.9720\n",
            "Colorado                 31841.5980\n",
            "Wisconsin                31173.4300\n",
            "Tennessee                30661.8730\n",
            "Minnesota                29863.1500\n",
            "Massachusetts            28634.4340\n",
            "Delaware                 27322.9990\n",
            "Maryland                 23705.5230\n",
            "Rhode Island             22525.0260\n",
            "Missouri                 22205.1500\n",
            "Oklahoma                 19683.3900\n",
            "Alabama                  19510.6400\n",
            "Oregon                   17284.4620\n",
            "Nevada                   16729.1020\n",
            "Connecticut              13384.3570\n",
            "Arkansas                 11678.1300\n",
            "Utah                     11220.0560\n",
            "Mississippi              10771.3400\n",
            "Louisiana                 9131.0500\n",
            "Vermont                   8929.3700\n",
            "South Carolina            8481.7100\n",
            "Nebraska                  7464.9300\n",
            "New Hampshire             7292.5240\n",
            "Montana                   5589.3520\n",
            "New Mexico                4783.5220\n",
            "Iowa                      4443.5600\n",
            "Idaho                     4382.4860\n",
            "Kansas                    2914.3100\n",
            "District of Columbia      2865.0200\n",
            "Wyoming                   1603.1360\n",
            "South Dakota              1315.5600\n",
            "Maine                     1270.5300\n",
            "West Virginia             1209.8240\n",
            "North Dakota               919.9100\n",
            "Name: Sales, dtype: float64\n"
          ]
        }
      ]
    },
    {
      "cell_type": "code",
      "source": [
        "# City vs Sales\n",
        "city_sales = df.groupby('City')['Sales'].sum().sort_values(ascending=False).head(10)\n",
        "print(city_sales)"
      ],
      "metadata": {
        "colab": {
          "base_uri": "https://localhost:8080/"
        },
        "id": "SOkhKOiwqcUr",
        "outputId": "34014900-6beb-44f8-fc2f-907f117b36e8"
      },
      "execution_count": 43,
      "outputs": [
        {
          "output_type": "stream",
          "name": "stdout",
          "text": [
            "City\n",
            "New York City    252462.5470\n",
            "Los Angeles      173420.1810\n",
            "Seattle          116106.3220\n",
            "San Francisco    109041.1200\n",
            "Philadelphia     108841.7490\n",
            "Houston           63956.1428\n",
            "Chicago           47820.1330\n",
            "San Diego         47521.0290\n",
            "Jacksonville      44713.1830\n",
            "Detroit           42446.9440\n",
            "Name: Sales, dtype: float64\n"
          ]
        }
      ]
    },
    {
      "cell_type": "markdown",
      "source": [
        "#Obtained Result on Analysis of the Super Market\n",
        "\n",
        "\n",
        "\n",
        "\n",
        "\n",
        "\n"
      ],
      "metadata": {
        "id": "YZjbqBF5v5_x"
      }
    },
    {
      "cell_type": "markdown",
      "source": [
        "#####1. **Segment wise Sales**\n",
        "1. Consumer: 5,101 -> customers (Consumer has the Highest Sales)\n",
        "2. Corporate: 3,098 -> customers (Corporate has an Average Sales)\n",
        "3. Home Office: 1,746 -> customers (Home Office has the lowest Sales)\n",
        "\n",
        "#####2. **Ship Mode Usage**\n",
        "1. Standard Class: 6,854 orders (most used)\n",
        "2. Second Class: 1,909 orders\n",
        "3. First Class: 1,184 orders\n",
        "4. Same Day: 498 orders (least used)\n",
        "\n",
        "#####   3. **Category-wise Sales**\n",
        "1. Technology: Total Sales = $836,154 (Technology products has the highest sales)            \n",
        "\n",
        "2. Furniture: $741,999 (Furniture is selled in an average proportion)\n",
        "\n",
        "3. Office Supplies: $719,046 (Office supply products have the least sales)\n",
        "\n",
        "\n",
        "#####   4.  **Sub-Category Sales**\n",
        "**Top-selling sub-categories:**\n",
        "\n",
        "1. Phones: $330,007 sales (Phones are selled in a high amount)   \n",
        "\n",
        "2. Chairs: $328,449 sales\n",
        "\n",
        "3. Storage: $223,843 sales\n",
        "\n",
        "**Lowest-selling sub-category:**\n",
        "1. Fasteners: $3,087 sales (lowest)\n",
        "\n",
        "\n",
        "#####5. **Region-wise Sales Distribution**\n",
        "1. West: $725,458 (highest sales)\n",
        "\n",
        "2. East: $678,782 (Intermediate)\n",
        "\n",
        "3. Central: $502,002 (Intermediate)\n",
        "\n",
        "4. South: $391,721 (lowest sales)\n",
        "\n",
        "#####6. **State-wise Sales Contribution**\n",
        "**Top-selling states(Top 3):**\n",
        "\n",
        "1. California: $457,688 (highest sales)\n",
        "\n",
        "2. New York: $310,876\n",
        "\n",
        "3. Texas: $170,188\n",
        "\n",
        "**Lowest-selling state:**\n",
        "1. North Dakota: $919 (lowest sales)\n",
        "\n",
        "#####7. **City-wise Sales Performance**\n",
        "1. New York City: $256,368 (highest sales)\n",
        "\n",
        "2. Los Angeles: $173,822\n",
        "\n",
        "3. Seattle: $119,089\n",
        "\n"
      ],
      "metadata": {
        "id": "rSKblSHXXG3i"
      }
    }
  ]
}